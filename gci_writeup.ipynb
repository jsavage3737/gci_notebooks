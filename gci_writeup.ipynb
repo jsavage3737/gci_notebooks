{
 "cells": [
  {
   "cell_type": "markdown",
   "metadata": {},
   "source": [
    "# A Neural Network Based Approach to Medical Image Recognition\n",
    "### Jack Savage, Kyle Burack, Tyler Seppala, Josh Michelberg\n",
    "\n",
    "---\n",
    "**Introduction**:\n",
    "\n",
    "Many communities around the world have little to no access to modern health care. Within our own country, there are two major groups with limited access: those without money for health-care, and those who are far from their nearest healthcare provider. In both circumstances listed, artificial intelligence provides a solution. In poverty-stricken areas, human doctors are costly while an open-source software-based diagnosis system would be cheap. In rural areas without access to experienced or well-trained doctors, medical technicians would be able to perform at a similar level."
   ]
  },
  {
   "cell_type": "markdown",
   "metadata": {},
   "source": [
    "![alt text](doctor_shortages.jpg \"Doctor Shortages\")\n",
    "**Relevent graphic showcasing shortages of doctors within the United States**\n",
    "\n",
    "_Further information on the 'HPSA score' metric used in the graph can be found [here](https://bhw.hrsa.gov/shortage-designation/hpsas)_"
   ]
  },
  {
   "cell_type": "markdown",
   "metadata": {},
   "source": [
    "- **Talk about previous approaches to medical image recognition (CITE STUFF HERE) (JOSH)**"
   ]
  },
  {
   "cell_type": "markdown",
   "metadata": {},
   "source": [
    "- **Talk about how versatile neural networks are due to transfer learning and training process as a whole (CITE STUFF HERE) (JACK)**"
   ]
  },
  {
   "cell_type": "markdown",
   "metadata": {},
   "source": [
    "**Past Work**:\n",
    "\n",
    "We began this project last semester with no knowledge of neural networks. ~75% of our work last semester was in researching our topic while ~25% was becoming familiar with the high-level API [Keras](https://keras.io/). This semester, we've been able to focus completely on model development and assessment and have created 2 unsuccessful models and 1 moderately successful model. \n",
    "\n",
    "Our initial model was of the Xception architecture **(XCEPTION CITATION)** and was trained on the untouched dataset divided into subclasses. Xception is an adjusted version of Google's publicly released Inception model **(INCEPTION CITATION)**. Both architectures contain specialized layers where multiple convolutional operations are performed on the same tensor. Inception modules concatonate the outputs of these operations while Xception maps the all outputs directly to a tensor of the same x and y dimensions. \n",
    "\n",
    "\n",
    "<img src=\"inception_module.JPG\" alt=\"inception_module\" style=\"width: 400px;\"/>\n",
    "<img src=\"xception_module.JPEG\" alt=\"xception_module\" style=\"width: 400px;\"/>\n",
    "\n",
    "We chose Xception because it's been reliably proven to be more accurate than the other architecture while also being relatively quick to train ([compared to the other architectures available natively within keras](https://keras.io/applications/)). This model proved to be a failure due to reasons discussed in the **Dataset** section. This model was extremely biased towards classifying images as being heathy. \n",
    "\n",
    "After the failure of our initial model, \n",
    "\n",
    "Unforunately, our team lost the hard drive containing training and validation metrics for our first two models so will not be able to discuss results in more detail\n",
    "\n",
    "- Discuss this semester's initial model (BRIEF) **(JACK)**\n",
    "    - What is a convolutional network (CITE STUFF HERE)\n",
    "    - What went wrong\n",
    "        - Failings to account for dataset\n",
    "        - Using xception default input size of 299x299\n",
    "- Discuss attempt with retinaNet (EXTENSIVE) **(TYLER)**\n",
    "    - What is object detection and retinaNet (CITE STUFF HERE)\n",
    "    - How does this approach differ from the \"vanilla networks\" we've been using\n",
    "    - Talk about repo we used"
   ]
  },
  {
   "cell_type": "markdown",
   "metadata": {},
   "source": [
    "## This Semester's Work"
   ]
  },
  {
   "cell_type": "markdown",
   "metadata": {},
   "source": [
    "**Intro:**\n",
    "- Dataset **(BURACK)** https://www.kaggle.com/c/rsna-pneumonia-detection-challenge?login=true\n",
    "    - Discuss dimensionality issues\n",
    "    - Discuss discrepencies in classes\n",
    "- Preprocessing of data **(JACK)**\n",
    "    - Discuss techniques such as over/under-sampling"
   ]
  },
  {
   "cell_type": "markdown",
   "metadata": {},
   "source": [
    "**Results**:\n",
    "\n",
    "\n",
    "- Tensorboard graphs (BOTH MODELS) **(JACK)**\n",
    "    - Interpretations\n",
    "- Evaluate network on test imaging **(JACK)**\n",
    "    - Discuss how discrepencies in dataset could account for results"
   ]
  },
  {
   "cell_type": "markdown",
   "metadata": {},
   "source": [
    "#### Xception training accuracy\n",
    "![alt_text](training_accuracy_xception_v2.PNG)\n",
    "#### Xception training loss\n",
    "![alt_text](training_loss_xception_v2.PNG)"
   ]
  },
  {
   "cell_type": "markdown",
   "metadata": {},
   "source": [
    "**Improvements for Next Semester: **(JACK)****\n",
    "- Ensembling models\n",
    "- Evaluate new methods from literature\n",
    "- Evaluate current infrastructure on new dataset\n",
    "- Train more models"
   ]
  },
  {
   "cell_type": "markdown",
   "metadata": {},
   "source": [
    "In this project, we will evaluate the use of convolutional neural networks (CNNs) in classyfing disease from medical imaging. Last semester, we performed the research necessary to sufficiently understand neural networks. This semester's goal is to create a functional model **CHANGE THIS with accuracy equal to that of human doctors CHANGE THIS**."
   ]
  },
  {
   "cell_type": "markdown",
   "metadata": {},
   "source": [
    "## Code Snippits to Write"
   ]
  },
  {
   "cell_type": "markdown",
   "metadata": {},
   "source": [
    "**Evaluate trained Network on Test Data**\n",
    "- Load model\n",
    "- Run model on test data; save history\n",
    "- Display metrics in matplotlib"
   ]
  },
  {
   "cell_type": "markdown",
   "metadata": {},
   "source": [
    "**Draw box around pneumonia**\n",
    "- Rework old matplotlib solution"
   ]
  },
  {
   "cell_type": "markdown",
   "metadata": {},
   "source": [
    "**Ensemble method with multiple networks**:\n",
    "- Figure out keras API to manipulate multiple networks\n",
    "- Take outputs, average them"
   ]
  },
  {
   "cell_type": "code",
   "execution_count": 1,
   "metadata": {},
   "outputs": [
    {
     "name": "stderr",
     "output_type": "stream",
     "text": [
      "Using TensorFlow backend.\n"
     ]
    }
   ],
   "source": [
    "import cv2\n",
    "import keras\n",
    "import matplotlib\n",
    "import pandas as pd\n",
    "import numpy as np\n",
    "import keras.layers as layers\n",
    "from keras.models import Model\n",
    "from keras.models import load_model\n",
    "from keras.layers import Average, Input\n",
    "from keras.preprocessing.image import ImageDataGenerator"
   ]
  },
  {
   "cell_type": "code",
   "execution_count": 2,
   "metadata": {},
   "outputs": [],
   "source": [
    "xception_final = load_model('xception15.hdf5')"
   ]
  },
  {
   "cell_type": "code",
   "execution_count": 3,
   "metadata": {},
   "outputs": [
    {
     "name": "stdout",
     "output_type": "stream",
     "text": [
      "Found 208 images belonging to 2 classes.\n"
     ]
    }
   ],
   "source": [
    "data_dir = r'C:\\Users\\jecks\\Documents\\School\\GCI\\gci_data\\test'\n",
    "\n",
    "test_datagen = ImageDataGenerator()\n",
    "test_datagen = test_datagen.flow_from_directory(data_dir,\n",
    "                                     target_size=(1024,1024))\n",
    "\n"
   ]
  },
  {
   "cell_type": "code",
   "execution_count": null,
   "metadata": {},
   "outputs": [],
   "source": [
    "xception_final.evaluate_generator(test_datagen)"
   ]
  },
  {
   "cell_type": "markdown",
   "metadata": {},
   "source": [
    "### Testing model"
   ]
  },
  {
   "cell_type": "markdown",
   "metadata": {},
   "source": [
    "### Ensembling Models"
   ]
  },
  {
   "cell_type": "code",
   "execution_count": null,
   "metadata": {},
   "outputs": [],
   "source": [
    "def ensemble(models, model_input):\n",
    "    \n",
    "    outputs = [model.outputs[0] for model in models]\n",
    "    y = Average()(outputs)\n",
    "    \n",
    "    model = Model(model_input, y, name='ensemble')\n",
    "    \n",
    "    return model"
   ]
  },
  {
   "cell_type": "code",
   "execution_count": null,
   "metadata": {},
   "outputs": [],
   "source": [
    "def ensembleModels(models, model_input):\n",
    "    # collect outputs of models in a list\n",
    "    yModels=[model(model_input) for model in models] \n",
    "    # averaging outputs\n",
    "    yAvg=layers.average(yModels) \n",
    "    # build model from same input and avg output\n",
    "    modelEns = Model(inputs=model_input, outputs=yAvg,    name='ensemble')  \n",
    "   \n",
    "    return modelEns"
   ]
  },
  {
   "cell_type": "code",
   "execution_count": null,
   "metadata": {
    "scrolled": true
   },
   "outputs": [],
   "source": [
    "model_input = Input(shape=models[0].input_shape[1:]) \n",
    "modelEns = ensembleModels(models, model_input)\n",
    "model.summary()"
   ]
  },
  {
   "cell_type": "code",
   "execution_count": null,
   "metadata": {},
   "outputs": [],
   "source": [
    "theWholeSquad = ensemble(models, models[0].input_shape)"
   ]
  },
  {
   "cell_type": "markdown",
   "metadata": {},
   "source": [
    "## Resources\n",
    "- https://www.ruralhealthinfo.org/topics/healthcare-access"
   ]
  },
  {
   "cell_type": "markdown",
   "metadata": {},
   "source": [
    "Chollet F. 2017. Xception: Deep Learning with Depthwise Separable Convolutions. 2017 IEEE Conference on Computer Vision and Pattern Recognition (CVPR).\n"
   ]
  },
  {
   "cell_type": "code",
   "execution_count": null,
   "metadata": {},
   "outputs": [],
   "source": []
  }
 ],
 "metadata": {
  "kernelspec": {
   "display_name": "Python 3",
   "language": "python",
   "name": "python3"
  },
  "language_info": {
   "codemirror_mode": {
    "name": "ipython",
    "version": 3
   },
   "file_extension": ".py",
   "mimetype": "text/x-python",
   "name": "python",
   "nbconvert_exporter": "python",
   "pygments_lexer": "ipython3",
   "version": "3.6.6"
  }
 },
 "nbformat": 4,
 "nbformat_minor": 2
}
