{
 "cells": [
  {
   "cell_type": "markdown",
   "metadata": {},
   "source": [
    "# A Neural Network Based Approach to Medical Image Recognition"
   ]
  },
  {
   "cell_type": "markdown",
   "metadata": {},
   "source": [
    "**Introduction**:\n",
    "\n",
    "- Talk about how ai could revolutionize health care\n",
    "- Talk about previous approaches to medical image recognition (CITE STUFF HERE)\n",
    "- Talk about how versatile neural networks are due to transfer learning and training process as a whole (CITE STUFF HERE)"
   ]
  },
  {
   "cell_type": "markdown",
   "metadata": {},
   "source": [
    "**Past Work**:\n",
    "\n",
    "- Discuss and evaluate last semester's model\n",
    "- Discuss this semester's initial model (BRIEF)\n",
    "    - What is a convolutional network (CITE STUFF HERE)\n",
    "- Discuss attempt with retinaNet (EXTENSIVE)\n",
    "    - What is object detection and retinaNet (CITE STUFF HERE)\n",
    "    - How does this approach differ from the \"vanilla networks\" we've been using"
   ]
  },
  {
   "cell_type": "markdown",
   "metadata": {},
   "source": [
    "## This Semester's Work"
   ]
  },
  {
   "cell_type": "markdown",
   "metadata": {},
   "source": [
    "**Intro:**\n",
    "- Discuss ensembling methods\n",
    "    - Discuss subnetworks\n",
    "- Dataset\n",
    "    - Discuss dimensionality issues\n",
    "    - Discuss discrepencies in classes\n",
    "- Preprocessing of data\n",
    "    - Discuss techniques such as over/under-sampling"
   ]
  },
  {
   "cell_type": "markdown",
   "metadata": {},
   "source": [
    "**Results**:\n",
    "- Tensorboard graphs (BOTH MODELS)\n",
    "    - Interpretations\n",
    "- Evaluate network on test imaging \n",
    "    - Discuss how discrepencies in dataset could account for results"
   ]
  },
  {
   "cell_type": "markdown",
   "metadata": {},
   "source": [
    "**Improvements for Next Semester:**\n",
    "- More enembled models\n",
    "- Evaluate new methods from literature\n",
    "- Evaluate current infrastructure on new dataset"
   ]
  },
  {
   "cell_type": "markdown",
   "metadata": {},
   "source": [
    "## Code Snippits to Write"
   ]
  },
  {
   "cell_type": "markdown",
   "metadata": {},
   "source": [
    "**Evaluate trained Network on Test Data**\n",
    "- Load model\n",
    "- Run model on test data; save history\n",
    "- Display metrics in matplotlib"
   ]
  },
  {
   "cell_type": "markdown",
   "metadata": {},
   "source": [
    "**Draw box around pneumonia**\n",
    "- Rework old matplotlib solution"
   ]
  },
  {
   "cell_type": "markdown",
   "metadata": {},
   "source": [
    "**Ensemble method with multiple networks**:\n",
    "- Figure out keras API to manipulate multiple networks\n",
    "- Take outputs, average them"
   ]
  },
  {
   "cell_type": "markdown",
   "metadata": {},
   "source": []
  }
 ],
 "metadata": {
  "kernelspec": {
   "display_name": "Python 3",
   "language": "python",
   "name": "python3"
  },
  "language_info": {
   "codemirror_mode": {
    "name": "ipython",
    "version": 3
   },
   "file_extension": ".py",
   "mimetype": "text/x-python",
   "name": "python",
   "nbconvert_exporter": "python",
   "pygments_lexer": "ipython3",
   "version": "3.6.6"
  }
 },
 "nbformat": 4,
 "nbformat_minor": 2
}
